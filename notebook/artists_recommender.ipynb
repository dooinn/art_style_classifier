{
 "cells": [
  {
   "cell_type": "code",
   "execution_count": 1,
   "metadata": {},
   "outputs": [],
   "source": [
    "import numpy as np \n",
    "import pandas as pd\n",
    "from sklearn.metrics.pairwise import cosine_similarity\n",
    "import nltk\n",
    "from nltk.stem import PorterStemmer\n",
    "from sklearn.feature_extraction.text import CountVectorizer"
   ]
  },
  {
   "cell_type": "code",
   "execution_count": 2,
   "metadata": {},
   "outputs": [],
   "source": [
    "artists = pd.read_csv(\"../data/artists.csv\")"
   ]
  },
  {
   "cell_type": "code",
   "execution_count": 4,
   "metadata": {},
   "outputs": [
    {
     "name": "stdout",
     "output_type": "stream",
     "text": [
      "{'title': 'Vincent van Gogh', 'extract': '<link rel=\"mw-deduplicated-inline-style\" href=\"mw-data:TemplateStyles:r1033289096\">\\n<p class=\"mw-empty-elt\">\\n\\n\\n</p>\\n\\n<p><b>Vincent Willem van Gogh</b> (<span>Dutch:</span> <span lang=\"nl-Latn-fonipa\">[ˈvɪnsɛnt<span> </span>ˈʋɪləɱ‿vɑŋ‿ˈɣɔx]</span> <span></span>; 30 March 1853\\xa0– 29 July 1890) was a Dutch Post-Impressionist painter who is among the most famous and influential figures in the history of Western art. In just over a decade, he created approximately 2100 artworks, including around 860 oil paintings, most of them in the last two years of his life. His oeuvre includes landscapes, still lifes, portraits, and self-portraits, most of which are characterized by bold colors and dramatic brushwork that contributed to the rise of expressionism in modern art. Van Gogh\\'s work was beginning to gain critical attention before he died at age 37, by what was suspected at the time to be a suicide. During his lifetime, only one of Van Gogh\\'s paintings, The Red Vineyard, was sold. \\n</p><p>Born into an upper-middle-class family, Van Gogh drew as a child and was serious, quiet and thoughtful, but showed signs of mental instability. As a young man, he worked as an art dealer, often travelling, but became depressed after he was transferred to London. He turned to religion and spent time as a missionary in southern Belgium. Later he drifted into ill-health and solitude. He was keenly aware of modernist trends in art and, while back with his parents, took up painting in 1881. His younger brother, Theo, supported him financially, and the two of them maintained a long correspondence.\\n</p><p>Van Gogh\\'s early works consist of mostly still lifes and depictions of peasant laborers. In 1886, he moved to Paris, where he met members of the artistic <i>avant-garde</i>, including Émile Bernard and Paul Gauguin, who were seeking new paths beyond Impressionism. Frustrated in Paris and inspired by a growing spirit of artistic change and collaboration, in February 1888, Van Gogh moved to Arles in southern France to establish an artistic retreat and commune. Once there, Van Gogh\\'s art changed. His paintings grew brighter and he turned his attention to the natural world, depicting local olive groves, wheat fields and sunflowers. Van Gogh invited Gauguin to join him in Arles and eagerly anticipated Gauguin\\'s arrival in the fall of 1888.\\n</p><p>Van Gogh suffered from psychotic episodes and delusions. Though he worried about his mental stability, he often neglected his physical health, did not eat properly and drank heavily. His friendship with Gauguin ended after a confrontation with a razor when, in a rage, he severed his left ear. Van Gogh spent time in psychiatric hospitals, including a period at Saint-Rémy. After he discharged himself and moved to the Auberge Ravoux in Auvers-sur-Oise near Paris, he came under the care of the homeopathic doctor Paul Gachet. His depression persisted, and on 27 July 1890, Van Gogh is believed to have shot himself in the chest with a revolver, dying from his injuries two days later.\\n</p><p>Van Gogh\\'s work began to attract critical artistic attention in the last year of his life. After his death, Van Gogh\\'s art and life story captured public imagination as an emblem of misunderstood genius, due in large part to the efforts of his widowed sister-in-law Johanna van Gogh-Bonger. His bold use of color, expressive line and thick application of paint inspired avant-garde artistic groups like the Fauves and German Expressionists in the early 20th century. Van Gogh\\'s work gained widespread critical and commercial success in the following decades, and he has become a lasting icon of the romantic ideal of the tortured artist. Today, Van Gogh\\'s works are among the world\\'s most expensive paintings ever sold. His legacy is honored and celebrated by the Van Gogh Museum in Amsterdam, which holds the world\\'s largest collection of his paintings and drawings.\\n</p>\\n\\n<!-- \\nNewPP limit report\\nParsed by mw‐api‐ext.eqiad.main‐5bf96f8bbd‐4k8w2\\nCached time: 20240510202645\\nCache expiry: 2592000\\nReduced expiry: false\\nComplications: [vary‐revision‐sha1, vary‐revision‐exists, is‐preview]\\nCPU time usage: 0.731 seconds\\nReal time usage: 1.020 seconds\\nPreprocessor visited node count: 4051/1000000\\nPost‐expand include size: 35437/2097152 bytes\\nTemplate argument size: 8577/2097152 bytes\\nHighest expansion depth: 14/100\\nExpensive parser function count: 13/500\\nUnstrip recursion depth: 0/20\\nUnstrip post‐expand size: 18329/5000000 bytes\\nLua time usage: 0.558/10.000 seconds\\nLua memory usage: 23492893/52428800 bytes\\nNumber of Wikibase entities loaded: 0/400\\n-->\\n<!--\\nTransclusion expansion time report (%,ms,calls,template)\\n100.00%  981.475      1 -total\\n 46.65%  457.870      1 Template:Infobox_artist\\n 23.61%  231.770      1 Template:Efn\\n 17.53%  172.010      2 Template:Ubl\\n 16.01%  157.118      1 Template:Lang\\n 12.56%  123.245      4 Template:Cite_web\\n 12.05%  118.302      1 Template:Birth_date\\n 11.29%  110.828      1 Template:Refn\\n  8.82%   86.543      1 Template:Infobox_person\\n  7.94%   77.966      1 Template:Short_description\\n-->', 'image': 'https://upload.wikimedia.org/wikipedia/commons/thumb/4/4c/Vincent_van_Gogh_-_Self-Portrait_-_Google_Art_Project_%28454045%29.jpg/500px-Vincent_van_Gogh_-_Self-Portrait_-_Google_Art_Project_%28454045%29.jpg'}\n"
     ]
    }
   ],
   "source": [
    "import requests\n",
    "\n",
    "def get_artist_info(artist_name):\n",
    "    URL = \"https://en.wikipedia.org/w/api.php\"\n",
    "    params = {\n",
    "        \"action\": \"query\",\n",
    "        \"titles\": artist_name,\n",
    "        \"prop\": \"extracts|pageimages\",\n",
    "        \"format\": \"json\",\n",
    "        \"exintro\": True,\n",
    "        \"pithumbsize\": 500  \n",
    "    }\n",
    "\n",
    "    response = requests.get(URL, params=params)\n",
    "    data = response.json()\n",
    "\n",
    "    page = next(iter(data['query']['pages'].values()))\n",
    "    info = {\n",
    "        'title': page['title'],\n",
    "        'extract': page['extract'],\n",
    "        'image': page.get('thumbnail', {}).get('source', 'No image available')\n",
    "    }\n",
    "\n",
    "    return info\n",
    "\n",
    "# Example usage:\n",
    "artist_info = get_artist_info('Vincent van Gogh')\n",
    "print(artist_info)"
   ]
  },
  {
   "cell_type": "code",
   "execution_count": 3,
   "metadata": {},
   "outputs": [
    {
     "data": {
      "text/plain": [
       "array(['Amedeo Modigliani', 'Vasiliy Kandinskiy', 'Diego Rivera',\n",
       "       'Claude Monet', 'Rene Magritte', 'Salvador Dali', 'Edouard Manet',\n",
       "       'Andrei Rublev', 'Vincent van Gogh', 'Gustav Klimt',\n",
       "       'Hieronymus Bosch', 'Kazimir Malevich', 'Mikhail Vrubel',\n",
       "       'Pablo Picasso', 'Peter Paul Rubens', 'Pierre-Auguste Renoir',\n",
       "       'Francisco Goya', 'Frida Kahlo', 'El Greco', 'Albrecht Dürer',\n",
       "       'Alfred Sisley', 'Pieter Bruegel', 'Marc Chagall',\n",
       "       'Giotto di Bondone', 'Sandro Botticelli', 'Caravaggio',\n",
       "       'Leonardo da Vinci', 'Diego Velazquez', 'Henri Matisse',\n",
       "       'Jan van Eyck', 'Edgar Degas', 'Rembrandt', 'Titian',\n",
       "       'Henri de Toulouse-Lautrec', 'Gustave Courbet', 'Camille Pissarro',\n",
       "       'William Turner', 'Edvard Munch', 'Paul Cezanne',\n",
       "       'Eugene Delacroix', 'Henri Rousseau', 'Georges Seurat',\n",
       "       'Paul Klee', 'Piet Mondrian', 'Joan Miro', 'Andy Warhol',\n",
       "       'Paul Gauguin', 'Raphael', 'Michelangelo', 'Jackson Pollock'],\n",
       "      dtype=object)"
      ]
     },
     "execution_count": 3,
     "metadata": {},
     "output_type": "execute_result"
    }
   ],
   "source": [
    "artists.name.unique()"
   ]
  },
  {
   "cell_type": "code",
   "execution_count": 3,
   "metadata": {},
   "outputs": [
    {
     "data": {
      "text/html": [
       "<div>\n",
       "<style scoped>\n",
       "    .dataframe tbody tr th:only-of-type {\n",
       "        vertical-align: middle;\n",
       "    }\n",
       "\n",
       "    .dataframe tbody tr th {\n",
       "        vertical-align: top;\n",
       "    }\n",
       "\n",
       "    .dataframe thead th {\n",
       "        text-align: right;\n",
       "    }\n",
       "</style>\n",
       "<table border=\"1\" class=\"dataframe\">\n",
       "  <thead>\n",
       "    <tr style=\"text-align: right;\">\n",
       "      <th></th>\n",
       "      <th>id</th>\n",
       "      <th>name</th>\n",
       "      <th>years</th>\n",
       "      <th>genre</th>\n",
       "      <th>nationality</th>\n",
       "      <th>bio</th>\n",
       "      <th>wikipedia</th>\n",
       "      <th>paintings</th>\n",
       "    </tr>\n",
       "  </thead>\n",
       "  <tbody>\n",
       "    <tr>\n",
       "      <th>0</th>\n",
       "      <td>0</td>\n",
       "      <td>Amedeo Modigliani</td>\n",
       "      <td>1884 - 1920</td>\n",
       "      <td>Expressionism</td>\n",
       "      <td>Italian</td>\n",
       "      <td>Amedeo Clemente Modigliani (Italian pronunciat...</td>\n",
       "      <td>http://en.wikipedia.org/wiki/Amedeo_Modigliani</td>\n",
       "      <td>193</td>\n",
       "    </tr>\n",
       "    <tr>\n",
       "      <th>1</th>\n",
       "      <td>1</td>\n",
       "      <td>Vasiliy Kandinskiy</td>\n",
       "      <td>1866 - 1944</td>\n",
       "      <td>Expressionism</td>\n",
       "      <td>Russian</td>\n",
       "      <td>Wassily Wassilyevich Kandinsky (Russian: Васи́...</td>\n",
       "      <td>http://en.wikipedia.org/wiki/Wassily_Kandinsky</td>\n",
       "      <td>88</td>\n",
       "    </tr>\n",
       "    <tr>\n",
       "      <th>2</th>\n",
       "      <td>2</td>\n",
       "      <td>Diego Rivera</td>\n",
       "      <td>1886 - 1957</td>\n",
       "      <td>Social Realism</td>\n",
       "      <td>Mexican</td>\n",
       "      <td>Diego María de la Concepción Juan Nepomuceno E...</td>\n",
       "      <td>http://en.wikipedia.org/wiki/Diego_Rivera</td>\n",
       "      <td>70</td>\n",
       "    </tr>\n",
       "    <tr>\n",
       "      <th>3</th>\n",
       "      <td>3</td>\n",
       "      <td>Claude Monet</td>\n",
       "      <td>1840 - 1926</td>\n",
       "      <td>Impressionism</td>\n",
       "      <td>French</td>\n",
       "      <td>Oscar-Claude Monet (; French: [klod mɔnɛ]; 14 ...</td>\n",
       "      <td>http://en.wikipedia.org/wiki/Claude_Monet</td>\n",
       "      <td>73</td>\n",
       "    </tr>\n",
       "    <tr>\n",
       "      <th>4</th>\n",
       "      <td>4</td>\n",
       "      <td>Rene Magritte</td>\n",
       "      <td>1898 - 1967</td>\n",
       "      <td>Impressionism</td>\n",
       "      <td>Belgian</td>\n",
       "      <td>René François Ghislain Magritte (French: [ʁəne...</td>\n",
       "      <td>http://en.wikipedia.org/wiki/René_Magritte</td>\n",
       "      <td>194</td>\n",
       "    </tr>\n",
       "  </tbody>\n",
       "</table>\n",
       "</div>"
      ],
      "text/plain": [
       "   id                name        years           genre nationality  \\\n",
       "0   0   Amedeo Modigliani  1884 - 1920   Expressionism     Italian   \n",
       "1   1  Vasiliy Kandinskiy  1866 - 1944   Expressionism     Russian   \n",
       "2   2        Diego Rivera  1886 - 1957  Social Realism     Mexican   \n",
       "3   3        Claude Monet  1840 - 1926   Impressionism      French   \n",
       "4   4       Rene Magritte  1898 - 1967   Impressionism     Belgian   \n",
       "\n",
       "                                                 bio  \\\n",
       "0  Amedeo Clemente Modigliani (Italian pronunciat...   \n",
       "1  Wassily Wassilyevich Kandinsky (Russian: Васи́...   \n",
       "2  Diego María de la Concepción Juan Nepomuceno E...   \n",
       "3  Oscar-Claude Monet (; French: [klod mɔnɛ]; 14 ...   \n",
       "4  René François Ghislain Magritte (French: [ʁəne...   \n",
       "\n",
       "                                        wikipedia  paintings  \n",
       "0  http://en.wikipedia.org/wiki/Amedeo_Modigliani        193  \n",
       "1  http://en.wikipedia.org/wiki/Wassily_Kandinsky         88  \n",
       "2       http://en.wikipedia.org/wiki/Diego_Rivera         70  \n",
       "3       http://en.wikipedia.org/wiki/Claude_Monet         73  \n",
       "4      http://en.wikipedia.org/wiki/René_Magritte        194  "
      ]
     },
     "execution_count": 3,
     "metadata": {},
     "output_type": "execute_result"
    }
   ],
   "source": [
    "artists.head()"
   ]
  },
  {
   "cell_type": "code",
   "execution_count": 4,
   "metadata": {},
   "outputs": [
    {
     "data": {
      "text/plain": [
       "(50, 8)"
      ]
     },
     "execution_count": 4,
     "metadata": {},
     "output_type": "execute_result"
    }
   ],
   "source": [
    "artists.shape"
   ]
  },
  {
   "cell_type": "code",
   "execution_count": 5,
   "metadata": {},
   "outputs": [
    {
     "name": "stdout",
     "output_type": "stream",
     "text": [
      "<class 'pandas.core.frame.DataFrame'>\n",
      "RangeIndex: 50 entries, 0 to 49\n",
      "Data columns (total 8 columns):\n",
      " #   Column       Non-Null Count  Dtype \n",
      "---  ------       --------------  ----- \n",
      " 0   id           50 non-null     int64 \n",
      " 1   name         50 non-null     object\n",
      " 2   years        50 non-null     object\n",
      " 3   genre        50 non-null     object\n",
      " 4   nationality  50 non-null     object\n",
      " 5   bio          50 non-null     object\n",
      " 6   wikipedia    50 non-null     object\n",
      " 7   paintings    50 non-null     int64 \n",
      "dtypes: int64(2), object(6)\n",
      "memory usage: 3.3+ KB\n"
     ]
    }
   ],
   "source": [
    "artists.info()"
   ]
  },
  {
   "cell_type": "code",
   "execution_count": 6,
   "metadata": {},
   "outputs": [
    {
     "data": {
      "text/plain": [
       "\"Amedeo Clemente Modigliani (Italian pronunciation: [ameˈdɛːo modiʎˈʎaːni]; 12 July 1884 – 24 January 1920) was an Italian Jewish painter and sculptor who worked mainly in France. He is known for portraits and nudes in a modern style characterized by elongation of faces, necks, and figures that were not received well during his lifetime but later found acceptance. Modigliani spent his youth in Italy, where he studied the art of antiquity and the Renaissance. In 1906 he moved to Paris, where he came into contact with such artists as Pablo Picasso and Constantin Brâncuși. By 1912 Modigliani was exhibiting highly stylized sculptures with Cubists of the Section d'Or group at the Salon d'Automne.\""
      ]
     },
     "execution_count": 6,
     "metadata": {},
     "output_type": "execute_result"
    }
   ],
   "source": [
    "artists.iloc[0]['bio']"
   ]
  },
  {
   "cell_type": "code",
   "execution_count": 7,
   "metadata": {},
   "outputs": [],
   "source": [
    "artists['tags'] = artists['genre'] + artists['nationality'] + artists['bio'] + artists['years']"
   ]
  },
  {
   "cell_type": "code",
   "execution_count": 8,
   "metadata": {},
   "outputs": [],
   "source": [
    "artists = artists[['name','tags']]"
   ]
  },
  {
   "cell_type": "code",
   "execution_count": 9,
   "metadata": {},
   "outputs": [],
   "source": [
    "artists['tags'] = artists['tags'].apply(lambda x:x.lower())"
   ]
  },
  {
   "cell_type": "code",
   "execution_count": 10,
   "metadata": {},
   "outputs": [
    {
     "data": {
      "text/html": [
       "<div>\n",
       "<style scoped>\n",
       "    .dataframe tbody tr th:only-of-type {\n",
       "        vertical-align: middle;\n",
       "    }\n",
       "\n",
       "    .dataframe tbody tr th {\n",
       "        vertical-align: top;\n",
       "    }\n",
       "\n",
       "    .dataframe thead th {\n",
       "        text-align: right;\n",
       "    }\n",
       "</style>\n",
       "<table border=\"1\" class=\"dataframe\">\n",
       "  <thead>\n",
       "    <tr style=\"text-align: right;\">\n",
       "      <th></th>\n",
       "      <th>name</th>\n",
       "      <th>tags</th>\n",
       "    </tr>\n",
       "  </thead>\n",
       "  <tbody>\n",
       "    <tr>\n",
       "      <th>0</th>\n",
       "      <td>Amedeo Modigliani</td>\n",
       "      <td>expressionismitalianamedeo clemente modigliani...</td>\n",
       "    </tr>\n",
       "    <tr>\n",
       "      <th>1</th>\n",
       "      <td>Vasiliy Kandinskiy</td>\n",
       "      <td>expressionismrussianwassily wassilyevich kandi...</td>\n",
       "    </tr>\n",
       "    <tr>\n",
       "      <th>2</th>\n",
       "      <td>Diego Rivera</td>\n",
       "      <td>social realismmexicandiego maría de la concepc...</td>\n",
       "    </tr>\n",
       "    <tr>\n",
       "      <th>3</th>\n",
       "      <td>Claude Monet</td>\n",
       "      <td>impressionismfrenchoscar-claude monet (; frenc...</td>\n",
       "    </tr>\n",
       "    <tr>\n",
       "      <th>4</th>\n",
       "      <td>Rene Magritte</td>\n",
       "      <td>impressionismbelgianrené françois ghislain mag...</td>\n",
       "    </tr>\n",
       "  </tbody>\n",
       "</table>\n",
       "</div>"
      ],
      "text/plain": [
       "                 name                                               tags\n",
       "0   Amedeo Modigliani  expressionismitalianamedeo clemente modigliani...\n",
       "1  Vasiliy Kandinskiy  expressionismrussianwassily wassilyevich kandi...\n",
       "2        Diego Rivera  social realismmexicandiego maría de la concepc...\n",
       "3        Claude Monet  impressionismfrenchoscar-claude monet (; frenc...\n",
       "4       Rene Magritte  impressionismbelgianrené françois ghislain mag..."
      ]
     },
     "execution_count": 10,
     "metadata": {},
     "output_type": "execute_result"
    }
   ],
   "source": [
    "artists.head()"
   ]
  },
  {
   "cell_type": "code",
   "execution_count": 11,
   "metadata": {},
   "outputs": [
    {
     "data": {
      "text/plain": [
       "\"expressionismitalianamedeo clemente modigliani (italian pronunciation: [ameˈdɛːo modiʎˈʎaːni]; 12 july 1884 – 24 january 1920) was an italian jewish painter and sculptor who worked mainly in france. he is known for portraits and nudes in a modern style characterized by elongation of faces, necks, and figures that were not received well during his lifetime but later found acceptance. modigliani spent his youth in italy, where he studied the art of antiquity and the renaissance. in 1906 he moved to paris, where he came into contact with such artists as pablo picasso and constantin brâncuși. by 1912 modigliani was exhibiting highly stylized sculptures with cubists of the section d'or group at the salon d'automne.1884 - 1920\""
      ]
     },
     "execution_count": 11,
     "metadata": {},
     "output_type": "execute_result"
    }
   ],
   "source": [
    "artists.iloc[0]['tags']"
   ]
  },
  {
   "cell_type": "code",
   "execution_count": 12,
   "metadata": {},
   "outputs": [],
   "source": [
    "ps = PorterStemmer()"
   ]
  },
  {
   "cell_type": "code",
   "execution_count": 13,
   "metadata": {},
   "outputs": [],
   "source": [
    "def stems(text):\n",
    "    T = []\n",
    "    \n",
    "    for i in text.split():\n",
    "        T.append(ps.stem(i))\n",
    "    \n",
    "    return \" \".join(T)"
   ]
  },
  {
   "cell_type": "code",
   "execution_count": 14,
   "metadata": {},
   "outputs": [],
   "source": [
    "artists['tags'] = artists['tags'].apply(stems)"
   ]
  },
  {
   "cell_type": "code",
   "execution_count": 15,
   "metadata": {},
   "outputs": [
    {
     "data": {
      "text/plain": [
       "\"expressionismitalianamedeo clement modigliani (italian pronunciation: [ameˈdɛːo modiʎˈʎaːni]; 12 juli 1884 – 24 januari 1920) wa an italian jewish painter and sculptor who work mainli in france. he is known for portrait and nude in a modern style character by elong of faces, necks, and figur that were not receiv well dure hi lifetim but later found acceptance. modigliani spent hi youth in italy, where he studi the art of antiqu and the renaissance. in 1906 he move to paris, where he came into contact with such artist as pablo picasso and constantin brâncuși. by 1912 modigliani wa exhibit highli styliz sculptur with cubist of the section d'or group at the salon d'automne.1884 - 1920\""
      ]
     },
     "execution_count": 15,
     "metadata": {},
     "output_type": "execute_result"
    }
   ],
   "source": [
    "artists.iloc[0]['tags']"
   ]
  },
  {
   "cell_type": "code",
   "execution_count": 16,
   "metadata": {},
   "outputs": [],
   "source": [
    "\n",
    "vectorizer  = CountVectorizer(max_features=3000,stop_words='english')"
   ]
  },
  {
   "cell_type": "code",
   "execution_count": 17,
   "metadata": {},
   "outputs": [],
   "source": [
    "tag_matrix = vectorizer.fit_transform(artists['tags'])"
   ]
  },
  {
   "cell_type": "code",
   "execution_count": 18,
   "metadata": {},
   "outputs": [
    {
     "data": {
      "text/plain": [
       "<1x1701 sparse matrix of type '<class 'numpy.int64'>'\n",
       "\twith 62 stored elements in Compressed Sparse Row format>"
      ]
     },
     "execution_count": 18,
     "metadata": {},
     "output_type": "execute_result"
    }
   ],
   "source": [
    "tag_matrix[0]"
   ]
  },
  {
   "cell_type": "code",
   "execution_count": 19,
   "metadata": {},
   "outputs": [
    {
     "data": {
      "text/plain": [
       "(50, 1701)"
      ]
     },
     "execution_count": 19,
     "metadata": {},
     "output_type": "execute_result"
    }
   ],
   "source": [
    "tag_matrix.shape"
   ]
  },
  {
   "cell_type": "code",
   "execution_count": 20,
   "metadata": {},
   "outputs": [],
   "source": [
    "cosine_sim = cosine_similarity(tag_matrix, tag_matrix)"
   ]
  },
  {
   "cell_type": "code",
   "execution_count": 21,
   "metadata": {},
   "outputs": [
    {
     "data": {
      "text/plain": [
       "(50, 50)"
      ]
     },
     "execution_count": 21,
     "metadata": {},
     "output_type": "execute_result"
    }
   ],
   "source": [
    "cosine_sim.shape"
   ]
  },
  {
   "cell_type": "code",
   "execution_count": 22,
   "metadata": {},
   "outputs": [
    {
     "data": {
      "text/plain": [
       "8"
      ]
     },
     "execution_count": 22,
     "metadata": {},
     "output_type": "execute_result"
    }
   ],
   "source": [
    "artists[artists['name'] == 'Vincent van Gogh'].index[0]"
   ]
  },
  {
   "cell_type": "code",
   "execution_count": 39,
   "metadata": {},
   "outputs": [],
   "source": [
    "def recommend(artist_name, num_recommendations=4):\n",
    "    artist_idx = artists.index[artists['name'] == artist_name].tolist()[0]\n",
    "    sim_scores = list(enumerate(cosine_sim[artist_idx]))\n",
    "    sim_scores = sorted(sim_scores, key=lambda x: x[1], reverse=True)\n",
    "    sim_indices = [i[0] for i in sim_scores[1:num_recommendations+1]]  \n",
    "    for idx in sim_indices:\n",
    "        print(artists['name'].iloc[idx])"
   ]
  },
  {
   "cell_type": "code",
   "execution_count": 40,
   "metadata": {},
   "outputs": [
    {
     "name": "stdout",
     "output_type": "stream",
     "text": [
      "Alfred Sisley\n",
      "Gustave Courbet\n",
      "Paul Gauguin\n",
      "Giotto di Bondone\n"
     ]
    }
   ],
   "source": [
    "recommend('Claude Monet')"
   ]
  },
  {
   "cell_type": "code",
   "execution_count": 41,
   "metadata": {},
   "outputs": [],
   "source": [
    "import pickle"
   ]
  },
  {
   "cell_type": "code",
   "execution_count": 42,
   "metadata": {},
   "outputs": [],
   "source": [
    "pickle.dump(artists,open('artists_list.pkl','wb'))\n",
    "pickle.dump(cosine_sim,open('similarity.pkl','wb'))"
   ]
  },
  {
   "cell_type": "code",
   "execution_count": null,
   "metadata": {},
   "outputs": [],
   "source": []
  }
 ],
 "metadata": {
  "kernelspec": {
   "display_name": "art",
   "language": "python",
   "name": "python3"
  },
  "language_info": {
   "codemirror_mode": {
    "name": "ipython",
    "version": 3
   },
   "file_extension": ".py",
   "mimetype": "text/x-python",
   "name": "python",
   "nbconvert_exporter": "python",
   "pygments_lexer": "ipython3",
   "version": "3.11.9"
  }
 },
 "nbformat": 4,
 "nbformat_minor": 2
}
